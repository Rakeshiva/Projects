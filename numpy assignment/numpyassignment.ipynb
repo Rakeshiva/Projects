{
 "cells": [
  {
   "cell_type": "markdown",
   "id": "5a280a54",
   "metadata": {},
   "source": [
    "### 1.Create a null vector of size 10 but the fifth value which is 1."
   ]
  },
  {
   "cell_type": "code",
   "execution_count": 15,
   "id": "da8c2c91",
   "metadata": {},
   "outputs": [
    {
     "name": "stdout",
     "output_type": "stream",
     "text": [
      "[0. 0. 0. 0. 1. 0. 0. 0. 0. 0.]\n"
     ]
    }
   ],
   "source": [
    "import numpy as np\n",
    "null_vector=np.zeros(10)\n",
    "null_vector[4]=1\n",
    "print(null_vector)"
   ]
  },
  {
   "cell_type": "markdown",
   "id": "c7a13c35",
   "metadata": {},
   "source": [
    "### 2. Create a vector with values ranging from 10 to 49."
   ]
  },
  {
   "cell_type": "code",
   "execution_count": 13,
   "id": "76e1db98",
   "metadata": {},
   "outputs": [
    {
     "name": "stdout",
     "output_type": "stream",
     "text": [
      "Vector ranging form 10-49--- [10 11 12 13 14 15 16 17 18 19 20 21 22 23 24 25 26 27 28 29 30 31 32 33\n",
      " 34 35 36 37 38 39 40 41 42 43 44 45 46 47 48]\n"
     ]
    }
   ],
   "source": [
    "vector=np.arange(10,49)\n",
    "print(\"Vector ranging form 10-49---\",vector)"
   ]
  },
  {
   "cell_type": "markdown",
   "id": "3a578406",
   "metadata": {},
   "source": [
    "### 3. Create a 3x3 matrix with values ranging from 0 to 8"
   ]
  },
  {
   "cell_type": "code",
   "execution_count": 9,
   "id": "8461ee1e",
   "metadata": {},
   "outputs": [
    {
     "name": "stdout",
     "output_type": "stream",
     "text": [
      "[[0 1 2]\n",
      " [3 4 5]\n",
      " [6 7 8]]\n"
     ]
    }
   ],
   "source": [
    "matrix= np.arange(9).reshape(3,3)\n",
    "print(matrix)"
   ]
  },
  {
   "cell_type": "markdown",
   "id": "d182a436",
   "metadata": {},
   "source": [
    "### Find indices of non-zero elements from [1,2,0,0,4,0]\n"
   ]
  },
  {
   "cell_type": "code",
   "execution_count": 19,
   "id": "b37dbf01",
   "metadata": {},
   "outputs": [
    {
     "name": "stdout",
     "output_type": "stream",
     "text": [
      "(array([0, 1, 4], dtype=int64),)\n"
     ]
    }
   ],
   "source": [
    "non_zero = np.nonzero([1,2,0,0,4,0])\n",
    "print(non_zero)"
   ]
  },
  {
   "cell_type": "markdown",
   "id": "8a5d4e9b",
   "metadata": {},
   "source": [
    "### Create a 10x10 array with random values and find the minimum and maximum values."
   ]
  },
  {
   "cell_type": "code",
   "execution_count": 33,
   "id": "0de9f554",
   "metadata": {},
   "outputs": [
    {
     "name": "stdout",
     "output_type": "stream",
     "text": [
      "minimum value :  3 \n",
      "maximum value :  6\n"
     ]
    }
   ],
   "source": [
    "values= np.random.randint((10,10))\n",
    "Amin, Amax = values.min(), values.max()\n",
    "print(\"minimum value : \",Amin,\"\\nmaximum value : \",Amax)"
   ]
  },
  {
   "cell_type": "code",
   "execution_count": 36,
   "id": "a432ad06",
   "metadata": {},
   "outputs": [
    {
     "name": "stdout",
     "output_type": "stream",
     "text": [
      "minimum value :  0.004060511314512016 \n",
      "maximum value :  0.9794808049544096\n"
     ]
    }
   ],
   "source": [
    "values= np.random.random((10,10))\n",
    "Amin, Amax = values.min(), values.max()\n",
    "print(\"minimum value : \",Amin,\"\\nmaximum value : \",Amax)"
   ]
  },
  {
   "cell_type": "markdown",
   "id": "6b622331",
   "metadata": {},
   "source": [
    "### Create a random vector of size 30 and find the mean value."
   ]
  },
  {
   "cell_type": "code",
   "execution_count": 35,
   "id": "c1e7d18a",
   "metadata": {},
   "outputs": [
    {
     "name": "stdout",
     "output_type": "stream",
     "text": [
      "0.5720413704689039\n"
     ]
    }
   ],
   "source": [
    "a = np.random.randint(30)\n",
    "a = Z.mean()\n",
    "print (a)"
   ]
  },
  {
   "cell_type": "code",
   "execution_count": null,
   "id": "16b8e95d",
   "metadata": {},
   "outputs": [],
   "source": []
  }
 ],
 "metadata": {
  "kernelspec": {
   "display_name": "Python 3",
   "language": "python",
   "name": "python3"
  },
  "language_info": {
   "codemirror_mode": {
    "name": "ipython",
    "version": 3
   },
   "file_extension": ".py",
   "mimetype": "text/x-python",
   "name": "python",
   "nbconvert_exporter": "python",
   "pygments_lexer": "ipython3",
   "version": "3.9.5"
  }
 },
 "nbformat": 4,
 "nbformat_minor": 5
}
